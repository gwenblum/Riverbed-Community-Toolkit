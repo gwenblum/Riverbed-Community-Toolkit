{
 "cells": [
  {
   "cell_type": "markdown",
   "metadata": {},
   "source": [
    "# SteelScript Notebook - Template\n",
    "\n",
    "## Prerequisites\n",
    "\n",
    "### 1. Tools:\n",
    "\n",
    "* [Python](https://www.python.org), for example version 3.12\n",
    "* [git](https://git-scm.com/downloads)\n",
    "* A good editor to run Jupyter notebook, for example [VS Code](https://www.vscode.org)"
   ]
  },
  {
   "cell_type": "markdown",
   "metadata": {},
   "source": [
    "### 2. SteelScript and modules installed\n",
    "\n",
    "Run the following to install the latest version of steelscript."
   ]
  },
  {
   "cell_type": "code",
   "execution_count": null,
   "metadata": {
    "vscode": {
     "languageId": "plaintext"
    }
   },
   "outputs": [],
   "source": [
    "# Install SteelScript\n",
    "!pip install git+https://github.com/riverbed/steelscript"
   ]
  },
  {
   "cell_type": "markdown",
   "metadata": {},
   "source": [
    "Customize the list of steelscript modules below to your need, and execute the cell to install the them. You can refer to [SteelScript project](https://github.com/riverbed/steelscript) to find other modules."
   ]
  },
  {
   "cell_type": "code",
   "execution_count": null,
   "metadata": {
    "vscode": {
     "languageId": "plaintext"
    }
   },
   "outputs": [],
   "source": [
    "# SteelScript modules\n",
    "# TODO: comment/uncomment (add or remove the leading '#')\n",
    "\n",
    "!pip install git+https://github.com/riverbed/steelscript-appresponse\n",
    "# !pip install git+https://github.com/riverbed/steelscript-netim\n",
    "# !pip install git+https://github.com/riverbed/steelscript-netprofiler\n",
    "# !pip install git+https://github.com/riverbed/steelscript-steelhead\n",
    "# !pip install git+https://github.com/riverbed/steelscript-scc\n",
    "\n",
    "# ... more steelscript modules in https://github.com/orgs/riverbed/repositories?q=steelscript"
   ]
  },
  {
   "cell_type": "markdown",
   "metadata": {},
   "source": [
    "## *optional* Set environment details\n",
    "\n",
    "Customize and run the following snippet to set environement details into python variables. It will try to extract from an .env file if any or prompt to fill the details in your IDE.\n",
    "\n",
    "Example of .env file:\n",
    "\n",
    "```config\n",
    "RIVERBED_AR_HOST=10.0.0.5\n",
    "RIVERBED_AR_USERNAME=your_username\n",
    "RIVERBED_AR_USERNAME=*************\n",
    "```"
   ]
  },
  {
   "cell_type": "code",
   "execution_count": null,
   "metadata": {
    "vscode": {
     "languageId": "plaintext"
    }
   },
   "outputs": [],
   "source": [
    "import getpass\n",
    "\n",
    "## Try to load the environement details from .env file if any\n",
    "\n",
    "env = {}\n",
    "def load_env_file(file_path):\n",
    "    with open(file_path) as f:\n",
    "        for line in f:\n",
    "            if line.strip() and not line.startswith('#'):\n",
    "                key, value = line.strip().split('=', 1)\n",
    "                env[key] = value\n",
    "load_env_file('.env')\n",
    "\n",
    "## Store the environment detaisl into variables from .env or prompt\n",
    "\n",
    "ar_host = env.get('RIVERBED_AR_HOST') if env.get('RIVERBED_AR_HOST') else input('Enter the host (e.g. 10.10.10.10): ')\n",
    "ar_username = env.get('RIVERBED_AR_USERNAME') if env.get('RIVERBED_AR_USERNAME') else input('Enter the username: ')\n",
    "ar_password = env.get('RIVERBED_AR_PASSWORD') if env.get('RIVERBED_AR_PASSWORD') else getpass.getpass('Enter the password: ')"
   ]
  },
  {
   "cell_type": "markdown",
   "metadata": {},
   "source": [
    "## Use SteelScript"
   ]
  },
  {
   "cell_type": "code",
   "execution_count": null,
   "metadata": {
    "vscode": {
     "languageId": "plaintext"
    }
   },
   "outputs": [],
   "source": [
    "# Example with SteelScript module for AppResponse\n",
    "# (based on notebook example in https://github.com/riverbed/steelscript-appresponse)\n",
    "\n",
    "import steelscript\n",
    "from steelscript.common.service import UserAuth\n",
    "from steelscript.appresponse.core.appresponse import AppResponse\n",
    "\n",
    "## Initialize\n",
    "riverbed_appresponse = AppResponse(host=ar_host, auth=UserAuth(ar_username, ar_password))\n",
    "\n",
    "## Get hostgroup in AppReponse\n",
    "riverbed_appresponse.classification.get_hostgroups()"
   ]
  },
  {
   "cell_type": "markdown",
   "metadata": {},
   "source": [
    "## Cleanup"
   ]
  },
  {
   "cell_type": "code",
   "execution_count": null,
   "metadata": {
    "vscode": {
     "languageId": "plaintext"
    }
   },
   "outputs": [],
   "source": [
    "!pip uninstall -y steelscript\n",
    "\n",
    "!pip uninstall -y steelscript-appresponse\n",
    "!pip uninstall -y steelscript-netim\n",
    "!pip uninstall -y steelscript-netprofiler\n",
    "!pip uninstall -y steelscript-steelhead\n",
    "!pip uninstall -y steelscript-scc"
   ]
  }
 ],
 "metadata": {
  "language_info": {
   "name": "python"
  }
 },
 "nbformat": 4,
 "nbformat_minor": 2
}
